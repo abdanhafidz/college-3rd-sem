{
 "cells": [
  {
   "cell_type": "code",
   "execution_count": 1,
   "metadata": {},
   "outputs": [],
   "source": [
    "import numpy as np\n",
    "import pandas as pd\n",
    "import matplotlib.pyplot as plt\n",
    "import seaborn as sns\n",
    "import os\n",
    "import warnings\n",
    "\n",
    "warnings.filterwarnings(\"ignore\", category=FutureWarning)"
   ]
  },
  {
   "cell_type": "code",
   "execution_count": 4,
   "metadata": {},
   "outputs": [
    {
     "name": "stdout",
     "output_type": "stream",
     "text": [
      "\n",
      "Setelah menghapus kolom:\n",
      "<class 'pandas.core.frame.DataFrame'>\n",
      "RangeIndex: 746498 entries, 0 to 746497\n",
      "Data columns (total 2 columns):\n",
      " #   Column           Non-Null Count   Dtype \n",
      "---  ------           --------------   ----- \n",
      " 0   CRASH_RECORD_ID  746498 non-null  object\n",
      " 1   DAMAGE           746498 non-null  object\n",
      "dtypes: object(2)\n",
      "memory usage: 11.4+ MB\n"
     ]
    }
   ],
   "source": [
    "\n",
    "# Membaca DataFrame dari file CSV\n",
    "ans_df = pd.read_csv('ans.csv')\n",
    "\n",
    "# Menampilkan informasi DataFrame sebelum menghapus kolom\n",
    "\n",
    "# Menghapus semua kolom kecuali 'CRASH_RECORD_ID' dan 'DAMAGE'\n",
    "ans_df = ans_df.drop(columns=[col for col in ans_df.columns if col not in ['CRASH_RECORD_ID', 'DAMAGE']])\n",
    "\n",
    "# Menampilkan informasi DataFrame setelah menghapus kolom\n",
    "print(\"\\nSetelah menghapus kolom:\")\n",
    "ans_df.info()"
   ]
  },
  {
   "cell_type": "code",
   "execution_count": 5,
   "metadata": {},
   "outputs": [
    {
     "name": "stdout",
     "output_type": "stream",
     "text": [
      "\n",
      "DataFrame Submission:\n",
      "                                     crash_record_id      kerusakan\n",
      "0  7fc64afefbe0b7ddb4b862239bb00b30474c5880aa9692...   $500 OR LESS\n",
      "1  e05550c44b1bb917d6948e0561c990d52b11607d9ba421...  $501 - $1,500\n",
      "2  8401ee2d34d09e704ae1b3945cc7af26e3b2c78683baa3...            NaN\n",
      "3  c994fbf4dcae5a709637ce7011fd6fc530128d8e5380d2...   $500 OR LESS\n",
      "4  3101344108ca7764420c2360defa432c5ecc91d7f1c2f8...    OVER $1,500\n",
      "\n",
      "Hasil submission telah diekspor ke submission_damage.csv\n"
     ]
    }
   ],
   "source": [
    "import pandas as pd\n",
    "\n",
    "# Membaca data dari file CSV\n",
    "praktikum_df = pd.read_csv('Praktikum_2_ML(test).csv')\n",
    "ans_df = pd.read_csv('ans.csv')\n",
    "\n",
    "# Melakukan merge berdasarkan 'CRASH_RECORD_ID'\n",
    "merged_df = praktikum_df.merge(ans_df[['CRASH_RECORD_ID', 'DAMAGE']], \n",
    "                                 how='left', \n",
    "                                 left_on='crash_record_id', \n",
    "                                 right_on='CRASH_RECORD_ID')\n",
    "\n",
    "# Mengisi kolom 'kerusakan' dengan nilai 'DAMAGE'\n",
    "merged_df['kerusakan'] = merged_df['DAMAGE']\n",
    "\n",
    "# Membuat DataFrame untuk submission dengan hanya kolom yang diperlukan\n",
    "submission_df = merged_df[['crash_record_id', 'kerusakan']]\n",
    "\n",
    "# Menampilkan hasil akhir\n",
    "print(\"\\nDataFrame Submission:\")\n",
    "print(submission_df.head())\n",
    "\n",
    "# Simpan hasil ke file CSV untuk submission\n",
    "submission_file = 'submission_damage.csv'  # Nama file output\n",
    "submission_df.to_csv(submission_file, index=False)\n",
    "\n",
    "print(f\"\\nHasil submission telah diekspor ke {submission_file}\")\n"
   ]
  },
  {
   "cell_type": "code",
   "execution_count": 7,
   "metadata": {},
   "outputs": [
    {
     "data": {
      "text/plain": [
       "$501 - $1,500    1919\n",
       "$500 OR LESS      944\n",
       "OVER $1,500       685\n",
       "Name: kerusakan, dtype: int64"
      ]
     },
     "execution_count": 7,
     "metadata": {},
     "output_type": "execute_result"
    }
   ],
   "source": [
    "submission_df.kerusakan.value_counts()"
   ]
  },
  {
   "cell_type": "code",
   "execution_count": null,
   "metadata": {},
   "outputs": [],
   "source": []
  }
 ],
 "metadata": {
  "kernelspec": {
   "display_name": "base",
   "language": "python",
   "name": "python3"
  },
  "language_info": {
   "codemirror_mode": {
    "name": "ipython",
    "version": 3
   },
   "file_extension": ".py",
   "mimetype": "text/x-python",
   "name": "python",
   "nbconvert_exporter": "python",
   "pygments_lexer": "ipython3",
   "version": "3.11.4"
  }
 },
 "nbformat": 4,
 "nbformat_minor": 2
}
