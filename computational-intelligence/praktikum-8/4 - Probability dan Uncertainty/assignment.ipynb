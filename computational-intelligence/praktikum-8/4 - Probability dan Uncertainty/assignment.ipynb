{
 "cells": [
  {
   "cell_type": "markdown",
   "metadata": {},
   "source": [
    "## Laporan Uji Coba Praktikum Probabilistic Learning Kecerdasan Komputasional (KK) - RKA Kelas N\n",
    "#### Nama   : Abdan Hafidz\n",
    "#### NRP    : 5054231021\n"
   ]
  },
  {
   "cell_type": "code",
   "execution_count": 1,
   "metadata": {},
   "outputs": [],
   "source": [
    "from probability import *\n",
    "from utils import print_table\n",
    "from notebook import psource, pseudocode, heatmap"
   ]
  },
  {
   "cell_type": "markdown",
   "metadata": {},
   "source": [
    "## Distribusi Peluang"
   ]
  },
  {
   "cell_type": "markdown",
   "metadata": {},
   "source": [
    "Kelas ``ProbDist`` mendefinisikan distribusi probabilitas diskrit. Pada kelas ini, kita memberi nama untuk variabel acak dan menetapkan probabilitas pada setiap nilai yang mungkin diambil oleh variabel acak tersebut. Ini memungkinkan kita menghitung probabilitas suatu nilai spesifik dalam rangkaian nilai yang mungkin."
   ]
  },
  {
   "cell_type": "code",
   "execution_count": null,
   "metadata": {},
   "outputs": [],
   "source": [
    "psource(ProbDist)"
   ]
  },
  {
   "cell_type": "markdown",
   "metadata": {},
   "source": [
    "Misalkan kita ingin mendefinisikan distribusi Peluang besok ada kelas atau tidak"
   ]
  },
  {
   "cell_type": "code",
   "execution_count": 4,
   "metadata": {},
   "outputs": [
    {
     "data": {
      "text/plain": [
       "0.5"
      ]
     },
     "execution_count": 4,
     "metadata": {},
     "output_type": "execute_result"
    }
   ],
   "source": [
    "p = ProbDist('Kelas')\n",
    "p['Ada'], p['TidakAda'] = 0.50, 0.50\n",
    "p['TidakAda']"
   ]
  },
  {
   "cell_type": "markdown",
   "metadata": {},
   "source": [
    "Sebagai kasus lain kita mempunyai contoh yaitu kita ingin menghitung peluang mengambil sebuah bola di antara bola merah sebanyak 100 bola, kuning sebanyak 50 bola, dan hijau sebanyak 20 bola __(asumsi bola yang sudah diambil dikembalikan lagi)__."
   ]
  },
  {
   "cell_type": "code",
   "execution_count": 11,
   "metadata": {},
   "outputs": [],
   "source": [
    "p_ambil_bola = ProbDist(freq={'red': 100, 'yellow': 50, 'green': 20})"
   ]
  },
  {
   "cell_type": "markdown",
   "metadata": {},
   "source": [
    "Secara umum kita dapat menentukan peluang termabil 1 bola merah adalah 100/170 = 10/17 , 1 bola kuning = 50/170 = 5/17, dan 1 bola hijau adalah 20/170 = 2/17, dengan menggunakan `ProbDist` program akan menghitung peluang - peluang tersebut secara otomatis berdasarkan distribusi frekuensi yang disediakan."
   ]
  },
  {
   "cell_type": "code",
   "execution_count": 15,
   "metadata": {},
   "outputs": [
    {
     "name": "stdout",
     "output_type": "stream",
     "text": [
      "Peluang Terambil 1 bola merah : \n",
      "0.5882352941176471\n",
      "Peluang Terambil 1 bola kuning : \n",
      "0.29411764705882354\n",
      "Peluang Terambil 1 bola hijau : \n",
      "0.11764705882352941\n"
     ]
    }
   ],
   "source": [
    "print(\"Peluang Terambil 1 bola merah : \")\n",
    "print(p_ambil_bola['red'])\n",
    "print(\"Peluang Terambil 1 bola kuning : \")\n",
    "print(p_ambil_bola['yellow'])\n",
    "print(\"Peluang Terambil 1 bola hijau : \")\n",
    "print(p_ambil_bola['green'])"
   ]
  },
  {
   "cell_type": "markdown",
   "metadata": {},
   "source": [
    "Kita juga dapat memeriksa kejadian apa saja yang tersedia pada sampel dengan menggunakan method `values`"
   ]
  },
  {
   "cell_type": "code",
   "execution_count": 17,
   "metadata": {},
   "outputs": [
    {
     "data": {
      "text/plain": [
       "['red', 'yellow', 'green']"
      ]
     },
     "execution_count": 17,
     "metadata": {},
     "output_type": "execute_result"
    }
   ],
   "source": [
    "p_ambil_bola.values"
   ]
  },
  {
   "cell_type": "markdown",
   "metadata": {},
   "source": [
    "Melakukan normalisasi nilai peluang agar terdistribusi secara normal."
   ]
  },
  {
   "cell_type": "code",
   "execution_count": 21,
   "metadata": {},
   "outputs": [
    {
     "data": {
      "text/plain": [
       "<bound method ProbDist.normalize of P(?)>"
      ]
     },
     "execution_count": 21,
     "metadata": {},
     "output_type": "execute_result"
    }
   ],
   "source": [
    "p_ambil_bola.normalize"
   ]
  },
  {
   "cell_type": "markdown",
   "metadata": {},
   "source": [
    "Membulatkan nilai desimal dari nilai peluang"
   ]
  },
  {
   "cell_type": "code",
   "execution_count": 22,
   "metadata": {},
   "outputs": [
    {
     "data": {
      "text/plain": [
       "'green: 0.118, red: 0.588, yellow: 0.294'"
      ]
     },
     "execution_count": 22,
     "metadata": {},
     "output_type": "execute_result"
    }
   ],
   "source": [
    "p_ambil_bola.show_approx()"
   ]
  },
  {
   "cell_type": "markdown",
   "metadata": {},
   "source": [
    "## Joint Probability Distribution"
   ]
  },
  {
   "cell_type": "markdown",
   "metadata": {},
   "source": [
    "Function method `event_values` menghasilkan tuple dari nilai-nilai variabel dalam sebuah event. Event ini ditentukan dalam bentuk dictionary di mana kunci adalah nama variabel dan nilainya adalah nilai dari variabel tersebut. Variabel-variabel ditentukan dengan daftar, dan urutan tuple yang dihasilkan sama dengan urutan variabel tersebut.\n",
    "\n",
    "Alternatifnya, jika event diberikan sebagai list atau tuple dengan panjang yang sama dengan variabel, maka tuple dari event akan dikembalikan apa adanya."
   ]
  },
  {
   "cell_type": "code",
   "execution_count": 23,
   "metadata": {},
   "outputs": [
    {
     "data": {
      "text/plain": [
       "(0.5882352941176471, 0.29411764705882354)"
      ]
     },
     "execution_count": 23,
     "metadata": {},
     "output_type": "execute_result"
    }
   ],
   "source": [
    "event = {'AmbilMerah': p_ambil_bola['red'], \n",
    "         'AmbilKuning': p_ambil_bola['yellow'], \n",
    "         'AmbilHijau': p_ambil_bola['green']}\n",
    "variables = ['AmbilMerah', 'AmbilKuning']\n",
    "event_values(event, variables)"
   ]
  },
  {
   "cell_type": "markdown",
   "metadata": {},
   "source": [
    "\n",
    "Sebuah model probabilitas sepenuhnya ditentukan oleh distribusi gabungan dari semua variabel acak.Modul probabilitas mengimplementasikan hal ini melalui kelas JointProbDist yang merupakan turunan dari kelas ProbDist. Kelas ini menentukan distribusi probabilitas diskrit pada sekumpulan variabel tertentu."
   ]
  },
  {
   "cell_type": "code",
   "execution_count": null,
   "metadata": {},
   "outputs": [],
   "source": [
    "psource(JointProbDist)"
   ]
  },
  {
   "cell_type": "markdown",
   "metadata": {},
   "source": [
    "Nilai untuk Distribusi Gabungan adalah tuple berurutan, di mana setiap elemen mewakili nilai yang sesuai dengan variabel tertentu. Untuk Distribusi Gabungan dari variabel AmbilMerah dan AmbilKuning."
   ]
  },
  {
   "cell_type": "code",
   "execution_count": 25,
   "metadata": {},
   "outputs": [
    {
     "data": {
      "text/plain": [
       "P(['AmbilMerah', 'AmbilKuning'])"
      ]
     },
     "execution_count": 25,
     "metadata": {},
     "output_type": "execute_result"
    }
   ],
   "source": [
    "j = JointProbDist(variables)\n",
    "j"
   ]
  },
  {
   "cell_type": "markdown",
   "metadata": {},
   "source": [
    "Sebagai contoh kita dapat menentukan peluang terambil merah dan kuning"
   ]
  },
  {
   "cell_type": "code",
   "execution_count": 27,
   "metadata": {},
   "outputs": [
    {
     "data": {
      "text/plain": [
       "0.17301038062283738"
      ]
     },
     "execution_count": 27,
     "metadata": {},
     "output_type": "execute_result"
    }
   ],
   "source": [
    "j[dict(AmbilMerah = 1, AmbilKuning = 1)] = p_ambil_bola['red'] * p_ambil_bola['yellow']\n",
    "j[1,1]"
   ]
  },
  {
   "cell_type": "markdown",
   "metadata": {},
   "source": [
    "Kita juga bisa menampilkan semua nilai untuk suatu variabel tertentu menggunakan metode values."
   ]
  },
  {
   "cell_type": "code",
   "execution_count": 28,
   "metadata": {},
   "outputs": [
    {
     "data": {
      "text/plain": [
       "[1]"
      ]
     },
     "execution_count": 28,
     "metadata": {},
     "output_type": "execute_result"
    }
   ],
   "source": [
    "j.values('AmbilMerah')"
   ]
  },
  {
   "cell_type": "markdown",
   "metadata": {},
   "source": [
    "### Inferensi Menggunakan Distribusi Gabungan Penuh\n",
    "\n",
    "Pada bagian ini, kita menggunakan Distribusi Gabungan Penuh untuk menghitung distribusi posterior berdasarkan beberapa bukti. Bukti ini direpresentasikan sebagai *dictionary* di Python, dengan variabel sebagai kunci dan nilai bukti sebagai nilai kunci tersebut.\n",
    "\n",
    "\n",
    "$$\\textbf{P}(X | \\textbf{e}) = \\alpha \\textbf{P}(X, \\textbf{e}) = \\alpha \\sum_{y} \\textbf{P}(X, \\textbf{e}, \\textbf{y})$$\n",
    "\n",
    "Di sini, **α** adalah faktor normalisasi, **X** adalah variabel yang ditanyakan, dan **e** adalah bukti. Berdasarkan persamaan ini, kita menjumlahkan pada variabel sisa **y** (yang bukan bagian dari bukti atau variabel yang ditanyakan), yaitu semua kombinasi kemungkinan **y**.\n",
    "\n"
   ]
  },
  {
   "cell_type": "markdown",
   "metadata": {},
   "source": [
    "### Contoh Kasus: Distribusi Gabungan untuk Penyakit\n",
    "\n",
    "Mari kita buat contoh distribusi gabungan yang berhubungan dengan diagnosis penyakit berdasarkan dua gejala: **Demam** dan **Batuk**, serta hasil **Tes COVID-19**. Kita akan mendefinisikan distribusi gabungan untuk variabel-variabel ini."
   ]
  },
  {
   "cell_type": "code",
   "execution_count": 29,
   "metadata": {},
   "outputs": [],
   "source": [
    "full_joint = JointProbDist(['Demam', 'Batuk', 'TesCOVID'])\n",
    "full_joint[dict(Demam=True, Batuk=True, TesCOVID=True)] = 0.1\n",
    "full_joint[dict(Demam=True, Batuk=True, TesCOVID=False)] = 0.05\n",
    "full_joint[dict(Demam=True, Batuk=False, TesCOVID=True)] = 0.07\n",
    "full_joint[dict(Demam=True, Batuk=False, TesCOVID=False)] = 0.03\n",
    "full_joint[dict(Demam=False, Batuk=True, TesCOVID=True)] = 0.08\n",
    "full_joint[dict(Demam=False, Batuk=False, TesCOVID=True)] = 0.15\n",
    "full_joint[dict(Demam=False, Batuk=True, TesCOVID=False)] = 0.02\n",
    "full_joint[dict(Demam=False, Batuk=False, TesCOVID=False)] = 0.45"
   ]
  },
  {
   "cell_type": "markdown",
   "metadata": {},
   "source": [
    "Mari kita lihat fungsi *enumerate_joint* yang mengembalikan jumlah dari entri-entri dalam distribusi P yang konsisten dengan bukti e, di mana variabel yang disediakan adalah variabel sisa dari P (yang tidak ada dalam e). Di sini, P merujuk pada distribusi gabungan penuh.\n",
    "\n",
    "Fungsi ini menggunakan pemanggilan rekursif dalam implementasinya. Parameter pertama, *variables*, merujuk pada variabel-variabel yang tersisa. Dalam setiap pemanggilan rekursif, fungsi ini menjaga satu variabel tetap konstan sambil memvariasikan variabel lainnya.\n",
    "\n",
    "### Contoh Kasus\n",
    "\n",
    "Pada contoh distribusi gabungan yang telah kita buat sebelumnya, kita memiliki tiga variabel: **Demam**, **Batuk**, dan **TesCOVID**. Misalkan kita ingin menghitung probabilitas seorang pasien yang mengalami demam dan batuk berdasarkan hasil tes COVID-19.\n",
    "\n",
    "1. **Bukti (e)**: Misalkan kita ingin memasukkan bukti bahwa pasien mengalami demam dan batuk (e: `{'Demam': True, 'Batuk': True}`).\n",
    "2. **Variabel yang Tersisa**: Variabel yang tersisa dalam distribusi adalah **TesCOVID**.\n",
    "\n",
    "Fungsi *enumerate_joint* akan menjumlahkan semua entri dalam distribusi P yang konsisten dengan bukti bahwa pasien mengalami demam dan batuk, sambil memvariasikan hasil tes COVID-19. Hasil akhir dari fungsi ini memberikan kita probabilitas total berdasarkan kondisi yang diberikan, yang membantu dalam pengambilan keputusan medis.\n"
   ]
  },
  {
   "cell_type": "code",
   "execution_count": null,
   "metadata": {},
   "outputs": [],
   "source": [
    "psource(enumerate_joint)"
   ]
  },
  {
   "cell_type": "markdown",
   "metadata": {},
   "source": [
    "### Mencari Probabilitas Marginal **P(Batuk=True)**\n",
    "\n",
    "Misalkan kita ingin menemukan **P(Batuk=True)**. Kita dapat memperoleh nilai ini melalui marginalisasi. Kita akan menggunakan fungsi **enumerate_joint** untuk menyelesaikannya dengan menetapkan `Batuk=True` sebagai bukti. Fungsi **enumerate_joint** akan mengembalikan jumlah probabilitas yang konsisten dengan bukti tersebut, yaitu Probabilitas Marginal."
   ]
  },
  {
   "cell_type": "code",
   "execution_count": 31,
   "metadata": {},
   "outputs": [
    {
     "data": {
      "text/plain": [
       "0.25"
      ]
     },
     "execution_count": 31,
     "metadata": {},
     "output_type": "execute_result"
    }
   ],
   "source": [
    "# Menentukan bukti\n",
    "evidence = dict(Batuk=True)\n",
    "\n",
    "# Variabel yang bukan bagian dari bukti\n",
    "variables = ['Demam', 'TesCOVID']\n",
    "\n",
    "# Menghitung probabilitas marginal menggunakan enumerate_joint\n",
    "ans1 = enumerate_joint(variables, evidence, full_joint)\n",
    "ans1"
   ]
  },
  {
   "cell_type": "markdown",
   "metadata": {},
   "source": [
    "### Verifikasi Hasil Menggunakan Distribusi Gabungan Penuh\n",
    "\n",
    "Kita dapat memverifikasi hasil dari definisi distribusi gabungan penuh. Kita juga dapat menggunakan fungsi yang sama untuk menemukan probabilitas yang lebih kompleks, seperti **P(Demam=True dan TesCOVID=True)**."
   ]
  },
  {
   "cell_type": "code",
   "execution_count": 32,
   "metadata": {},
   "outputs": [
    {
     "data": {
      "text/plain": [
       "0.17"
      ]
     },
     "execution_count": 32,
     "metadata": {},
     "output_type": "execute_result"
    }
   ],
   "source": [
    "# Menentukan bukti untuk kasus kompleks\n",
    "evidence_complex = dict(Demam=True, TesCOVID=True)\n",
    "\n",
    "# Variabel yang bukan bagian dari bukti\n",
    "variables_complex = ['Batuk']\n",
    "\n",
    "# Menghitung probabilitas menggunakan enumerate_joint untuk probabilitas kompleks\n",
    "ans_complex = enumerate_joint(variables_complex, evidence_complex, full_joint)\n",
    "ans_complex"
   ]
  },
  {
   "cell_type": "markdown",
   "metadata": {},
   "source": [
    "### Menghitung Probabilitas Bersyarat **P(Demam=True | TesCOVID=True)**\n",
    "\n",
    "Kemampuan untuk menemukan jumlah probabilitas yang memenuhi bukti tertentu memungkinkan kita untuk menghitung probabilitas bersyarat seperti **P(Demam=True | TesCOVID=True)**. Kita dapat menulisnya sebagai:\n",
    "\n",
    "$$P(Demam=True | TesCOVID=True) = \\frac{P(Demam=True \\ \\text{dan} \\ TesCOVID=True)}{P(TesCOVID=True)}$$\n",
    "\n",
    "Kita telah menghitung baik pembilang maupun penyebutnya sebelumnya.\n",
    "\n",
    "### Penjelasan\n",
    "\n",
    "1. **Pembilang**: Di sini, **P(Demam=True dan TesCOVID=True)** adalah probabilitas bahwa pasien mengalami demam dan hasil tes COVID-19 positif. Kita sudah menghitung nilai ini sebelumnya menggunakan fungsi **enumerate_joint**.\n",
    "  \n",
    "2. **Penyebut**: **P(TesCOVID=True)** adalah probabilitas bahwa pasien memiliki hasil tes COVID-19 positif. Kita juga telah menghitung nilai ini sebelumnya dengan menetapkan `TesCOVID=True` sebagai bukti.\n",
    "\n",
    "3. **Menghitung Probabilitas Bersyarat**: Dengan kedua nilai ini, kita dapat menghitung probabilitas bersyarat **P(Demam=True | TesCOVID=True)** dengan membagi pembilang dengan penyebut. Hasilnya memberikan kita peluang bahwa pasien mengalami demam, diberikan bahwa hasil tes COVID-19 mereka positif.\n"
   ]
  },
  {
   "cell_type": "code",
   "execution_count": 34,
   "metadata": {},
   "outputs": [
    {
     "data": {
      "text/plain": [
       "0.68"
      ]
     },
     "execution_count": 34,
     "metadata": {},
     "output_type": "execute_result"
    }
   ],
   "source": [
    "ans_complex/ans1"
   ]
  },
  {
   "cell_type": "markdown",
   "metadata": {},
   "source": [
    "### Distribusi Probabilitas Bersyarat Menggunakan **enumerate_joint_ask**\n",
    "\n",
    "Kita mungkin tertarik pada distribusi probabilitas dari suatu variabel tertentu yang dikondisikan pada bukti tertentu. Ini dapat melibatkan perhitungan seperti di atas untuk setiap kemungkinan nilai dari variabel tersebut. Hal ini telah diimplementasikan sedikit berbeda dengan menggunakan normalisasi dalam fungsi **enumerate_joint_ask**, yang mengembalikan distribusi probabilitas atas nilai-nilai variabel **X**, mengingat observasi {var:val} **e**, dalam **JointProbDist P**.\n",
    "\n",
    "### Penjelasan Implementasi\n",
    "\n",
    "1. **Fungsi enumerate_joint_ask**: Fungsi ini memanggil **enumerate_joint** untuk setiap nilai dari variabel kueri. Misalnya, jika kita ingin menghitung distribusi probabilitas bersyarat untuk variabel **Demam** mengingat hasil tes COVID-19, kita akan melakukannya untuk setiap nilai dari **Demam** (True dan False).\n",
    "\n",
    "2. **Bukti yang Diperluas**: Ketika memanggil **enumerate_joint**, fungsi ini akan menyertakan bukti yang diperluas dengan menambahkan **X = x<sub>i</sub>**, di mana **x<sub>i</sub>** adalah nilai yang sedang dianalisis untuk variabel kueri. Misalnya, jika kita sedang menganalisis **Demam=True**, maka bukti yang diperluas adalah `{'TesCOVID': True, 'Demam': True}`.\n",
    "\n",
    "3. **Normalisasi**: Setelah mendapatkan distribusi untuk semua nilai variabel kueri, hasilnya dinormalisasi untuk menghasilkan distribusi probabilitas yang valid, di mana semua probabilitas menjumlah hingga 1.\n",
    "\n",
    "### Contoh Kasus: Distribusi Probabilitas **P(Demam | TesCOVID=True)**\n",
    "\n",
    "Misalkan kita ingin mengetahui distribusi probabilitas dari **Demam** mengingat hasil tes COVID-19 positif:\n"
   ]
  },
  {
   "cell_type": "code",
   "execution_count": null,
   "metadata": {},
   "outputs": [],
   "source": [
    "psource(enumerate_joint_ask)"
   ]
  },
  {
   "cell_type": "markdown",
   "metadata": {},
   "source": [
    "### Mencari **P(Demam | TesCOVID=True)** Menggunakan **enumerate_joint_ask**\n",
    "\n",
    "Mari kita cari **P(Demam | TesCOVID=True)** menggunakan fungsi **enumerate_joint_ask**. Dalam hal ini, kita akan mengatur variabel kueri menjadi **Demam** dan bukti menjadi **TesCOVID=True**."
   ]
  },
  {
   "cell_type": "code",
   "execution_count": 36,
   "metadata": {},
   "outputs": [
    {
     "data": {
      "text/plain": [
       "(0.425, 0.575)"
      ]
     },
     "execution_count": 36,
     "metadata": {},
     "output_type": "execute_result"
    }
   ],
   "source": [
    "# Menentukan variabel kueri dan bukti\n",
    "query_variable = 'Demam'\n",
    "evidence = dict(TesCOVID=True)\n",
    "\n",
    "# Menghitung probabilitas menggunakan enumerate_joint_ask\n",
    "ans = enumerate_joint_ask(query_variable, evidence, full_joint)\n",
    "\n",
    "# Menampilkan hasil untuk kedua nilai dari variabel kueri\n",
    "(ans[True], ans[False])"
   ]
  }
 ],
 "metadata": {
  "kernelspec": {
   "display_name": "base",
   "language": "python",
   "name": "python3"
  },
  "language_info": {
   "codemirror_mode": {
    "name": "ipython",
    "version": 3
   },
   "file_extension": ".py",
   "mimetype": "text/x-python",
   "name": "python",
   "nbconvert_exporter": "python",
   "pygments_lexer": "ipython3",
   "version": "3.11.4"
  }
 },
 "nbformat": 4,
 "nbformat_minor": 2
}
