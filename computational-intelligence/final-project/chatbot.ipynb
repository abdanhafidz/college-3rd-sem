{
 "cells": [
  {
   "cell_type": "code",
   "execution_count": 18,
   "metadata": {},
   "outputs": [
    {
     "name": "stdout",
     "output_type": "stream",
     "text": [
      "Collecting markovchainNote: you may need to restart the kernel to use updated packages.\n",
      "\n",
      "  Obtaining dependency information for markovchain from https://files.pythonhosted.org/packages/20/48/e214a70c549e047bc3515f93e50b31623c394efbd1959ee9132f6a95868f/markovchain-0.2.6-py3-none-any.whl.metadata\n",
      "  Downloading markovchain-0.2.6-py3-none-any.whl.metadata (12 kB)\n",
      "Collecting enum34 (from markovchain)\n",
      "  Obtaining dependency information for enum34 from https://files.pythonhosted.org/packages/63/f6/ccb1c83687756aeabbf3ca0f213508fcfb03883ff200d201b3a4c60cedcc/enum34-1.1.10-py3-none-any.whl.metadata\n",
      "  Downloading enum34-1.1.10-py3-none-any.whl.metadata (1.6 kB)\n",
      "Requirement already satisfied: tqdm in c:\\users\\asus\\anaconda3\\lib\\site-packages (from markovchain) (4.65.0)\n",
      "Collecting custom-inherit (from markovchain)\n",
      "  Obtaining dependency information for custom-inherit from https://files.pythonhosted.org/packages/c0/0c/f0967273bd2213adaafbd8754fa36f03ba21273ce03f70a83551fe12b0f1/custom_inherit-2.4.1-py3-none-any.whl.metadata\n",
      "  Downloading custom_inherit-2.4.1-py3-none-any.whl.metadata (838 bytes)\n",
      "Requirement already satisfied: colorama in c:\\users\\asus\\anaconda3\\lib\\site-packages (from tqdm->markovchain) (0.4.6)\n",
      "Downloading markovchain-0.2.6-py3-none-any.whl (44 kB)\n",
      "   ---------------------------------------- 0.0/44.3 kB ? eta -:--:--\n",
      "   ---------------------------------------- 0.0/44.3 kB ? eta -:--:--\n",
      "   --------- ------------------------------ 10.2/44.3 kB ? eta -:--:--\n",
      "   --------- ------------------------------ 10.2/44.3 kB ? eta -:--:--\n",
      "   --------- ------------------------------ 10.2/44.3 kB ? eta -:--:--\n",
      "   --------- ------------------------------ 10.2/44.3 kB ? eta -:--:--\n",
      "   --------- ------------------------------ 10.2/44.3 kB ? eta -:--:--\n",
      "   --------- ------------------------------ 10.2/44.3 kB ? eta -:--:--\n",
      "   --------- ------------------------------ 10.2/44.3 kB ? eta -:--:--\n",
      "   --------- ------------------------------ 10.2/44.3 kB ? eta -:--:--\n",
      "   --------- ------------------------------ 10.2/44.3 kB ? eta -:--:--\n",
      "   --------- ------------------------------ 10.2/44.3 kB ? eta -:--:--\n",
      "   --------- ------------------------------ 10.2/44.3 kB ? eta -:--:--\n",
      "   --------- ------------------------------ 10.2/44.3 kB ? eta -:--:--\n",
      "   --------- ------------------------------ 10.2/44.3 kB ? eta -:--:--\n",
      "   --------- ------------------------------ 10.2/44.3 kB ? eta -:--:--\n",
      "   --------- ------------------------------ 10.2/44.3 kB ? eta -:--:--\n",
      "   --------- ------------------------------ 10.2/44.3 kB ? eta -:--:--\n",
      "   --------- ------------------------------ 10.2/44.3 kB ? eta -:--:--\n",
      "   --------- ------------------------------ 10.2/44.3 kB ? eta -:--:--\n",
      "   --------- ------------------------------ 10.2/44.3 kB ? eta -:--:--\n",
      "   ------------------ --------------------- 20.5/44.3 kB 11.5 kB/s eta 0:00:03\n",
      "   ------------------ --------------------- 20.5/44.3 kB 11.5 kB/s eta 0:00:03\n",
      "   --------------------------- ------------ 30.7/44.3 kB 20.8 kB/s eta 0:00:01\n",
      "   ------------------------------------ --- 41.0/44.3 kB 29.8 kB/s eta 0:00:01\n",
      "   ---------------------------------------- 44.3/44.3 kB 32.6 kB/s eta 0:00:00\n",
      "Downloading custom_inherit-2.4.1-py3-none-any.whl (15 kB)\n",
      "Downloading enum34-1.1.10-py3-none-any.whl (11 kB)\n",
      "Installing collected packages: enum34, custom-inherit, markovchain\n",
      "Successfully installed custom-inherit-2.4.1 enum34-1.1.10 markovchain-0.2.6\n"
     ]
    }
   ],
   "source": [
    "%pip install markovchain"
   ]
  },
  {
   "cell_type": "code",
   "execution_count": 41,
   "metadata": {},
   "outputs": [
    {
     "name": "stdout",
     "output_type": "stream",
     "text": [
      "dan dan dan dan dan \n",
      "dan dan dan dan \n",
      "dan dan dan \n",
      "dan dan \n",
      "dan \n"
     ]
    }
   ],
   "source": [
    "def gacor(n):\n",
    "   if(n == 0):return 0\n",
    "   print(\"dan \" * n)\n",
    "   gacor(n - 1)\n",
    "gacor(5)"
   ]
  },
  {
   "cell_type": "code",
   "execution_count": 4,
   "metadata": {},
   "outputs": [
    {
     "data": {
      "text/plain": [
       "2.0"
      ]
     },
     "execution_count": 4,
     "metadata": {},
     "output_type": "execute_result"
    }
   ],
   "source": [
    "def asam(x):\n",
    "   y = 1/x\n",
    "   y *= x\n",
    "   y += x\n",
    "   return y + 3\n",
    "\n",
    "def manis(x):\n",
    "   return asam(x + 1) - asam (x - 1) + x\n",
    "asam(2) - manis(2)"
   ]
  },
  {
   "cell_type": "code",
   "execution_count": 8,
   "metadata": {},
   "outputs": [
    {
     "name": "stdout",
     "output_type": "stream",
     "text": [
      "5\n"
     ]
    }
   ],
   "source": [
    "def ping(x):\n",
    "    if(x == 0):\n",
    "      return 0\n",
    "    return x%2 + ping(x // 10)\n",
    "print(ping(123456789))"
   ]
  }
 ],
 "metadata": {
  "kernelspec": {
   "display_name": "base",
   "language": "python",
   "name": "python3"
  },
  "language_info": {
   "codemirror_mode": {
    "name": "ipython",
    "version": 3
   },
   "file_extension": ".py",
   "mimetype": "text/x-python",
   "name": "python",
   "nbconvert_exporter": "python",
   "pygments_lexer": "ipython3",
   "version": "3.11.4"
  }
 },
 "nbformat": 4,
 "nbformat_minor": 2
}
