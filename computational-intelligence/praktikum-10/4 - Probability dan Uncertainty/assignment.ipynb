{
 "cells": [
  {
   "cell_type": "markdown",
   "metadata": {},
   "source": [
    "## Laporan Uji Coba Praktikum Probabilistic Learning - Bayesian Sampling Kecerdasan Komputasional (KK) - RKA Kelas N\n",
    "#### Nama   : Abdan Hafidz\n",
    "#### NRP    : 5054231021\n"
   ]
  },
  {
   "cell_type": "code",
   "execution_count": 4,
   "metadata": {},
   "outputs": [],
   "source": [
    "from probability import *\n",
    "from utils import print_table\n",
    "from notebook import psource, pseudocode, heatmap"
   ]
  },
  {
   "cell_type": "markdown",
   "metadata": {},
   "source": [
    "# Inferensi Aproksimasi pada Bayesian Networks\n",
    "\n",
    "Pada Bayesian Networks, metode inferensi yang *exact* (tepat) sering kali tidak dapat diskalakan dengan baik terutama pada jaringan yang sangat besar dan kompleks. Hal ini disebabkan oleh kompleksitas komputasi yang meningkat secara eksponensial seiring bertambahnya jumlah variabel dan dependensi antar variabel.\n",
    "\n",
    "## Mengapa Inferensi *Exact* Tidak Efisien?\n",
    "\n",
    "Metode inferensi *exact* seperti **Variable Elimination** atau **Belief Propagation** membutuhkan banyak sumber daya komputasi karena perlu menghitung distribusi probabilitas yang lengkap untuk setiap variabel. Ketika jaringan menjadi lebih besar, jumlah kombinasi yang harus dievaluasi juga bertambah, sehingga waktu dan memori yang dibutuhkan menjadi sangat tinggi.\n",
    "\n",
    "## Inferensi Aproksimasi dengan Monte Carlo\n",
    "\n",
    "Sebagai alternatif, kita dapat menggunakan metode **Inferensi Aproksimasi**. Salah satu pendekatan populer adalah **algoritma sampling acak**, yang juga dikenal sebagai **Monte Carlo algorithms**. Metode ini tidak berusaha menghitung nilai yang *exact*, melainkan melakukan pendekatan melalui sejumlah sampel acak untuk memperkirakan distribusi probabilitas.\n",
    "\n",
    "### Cara Kerja Algoritma Monte Carlo\n",
    "\n",
    "Algoritma Monte Carlo bekerja dengan cara:\n",
    "1. **Membangkitkan Sampel Acak**: Membuat sampel dari distribusi probabilitas sesuai dengan struktur Bayesian Network.\n",
    "2. **Menghitung Frekuensi**: Menggunakan sampel yang dihasilkan untuk menghitung frekuensi kemunculan berbagai nilai atau kejadian.\n",
    "3. **Memperkirakan Distribusi**: Frekuensi tersebut kemudian digunakan untuk mendekati nilai probabilitas yang diinginkan.\n",
    "\n",
    "### Keuntungan Inferensi Aproksimasi\n",
    "\n",
    "- **Lebih Cepat untuk Jaringan Besar**: Pendekatan ini lebih efisien secara komputasi pada jaringan besar karena tidak perlu menghitung semua kemungkinan kombinasi.\n",
    "- **Fleksibilitas Tinggi**: Dapat diterapkan pada berbagai jenis jaringan, bahkan yang memiliki dependensi kompleks.\n",
    "- **Skalabilitas**: Dapat ditingkatkan skalanya dengan menambah jumlah sampel untuk mendapatkan hasil yang lebih akurat.\n",
    "\n",
    "### Contoh Algoritma Monte Carlo\n",
    "\n",
    "Beberapa contoh algoritma Monte Carlo yang sering digunakan dalam inferensi aproksimasi adalah:\n",
    "- **Gibbs Sampling**: Metode yang menggunakan sampel dari distribusi kondisional setiap variabel.\n",
    "- **Likelihood Weighting**: Menggunakan bobot berdasarkan nilai variabel yang diketahui untuk memperkirakan probabilitas.\n",
    "- **Metropolis-Hastings**: Algoritma yang menghasilkan sampel berdasarkan rasio probabilitas.\n",
    "\n"
   ]
  },
  {
   "cell_type": "code",
   "execution_count": null,
   "metadata": {},
   "outputs": [],
   "source": [
    "psource(BayesNode.sample)"
   ]
  },
  {
   "cell_type": "markdown",
   "metadata": {},
   "source": [
    "# Metode Sampling pada Bayesian Networks\n",
    "\n",
    "Sebelum membahas berbagai algoritma sampling, kita akan melihat metode **BayesNode.sample**. Metode ini berfungsi untuk mengambil sampel dari distribusi suatu variabel, dengan kondisi nilai-nilai pada **parent_variables** (variabel-variabel induk). Artinya, metode ini akan mengembalikan nilai **True** atau **False** secara acak, berdasarkan probabilitas kondisional yang diberikan oleh variabel-variabel induknya. Untuk kemudahan, kita menggunakan fungsi **probability** dari modul **utils**, yang akan mengembalikan **True** sesuai probabilitas yang diberikan sebagai parameter.\n",
    "\n",
    "## Prior Sampling\n",
    "\n",
    "**Prior Sampling** adalah salah satu metode sampling sederhana yang dilakukan dengan mengikuti urutan topologis pada Bayesian Network. \n",
    "\n",
    "### Cara Kerja Prior Sampling\n",
    "1. **Mulai dari Node Teratas**: Kita mulai dari node (variabel) yang berada di puncak jaringan, yaitu variabel tanpa induk.\n",
    "2. **Sampel Berdasarkan Distribusi Kondisional**: Untuk setiap variabel **X<sub>i</sub>**, kita mengambil sampel berdasarkan **P(X<sub>i</sub> | parents(X<sub>i</sub>)**. Artinya, distribusi probabilitas dari variabel tersebut dikondisikan oleh nilai-nilai variabel induknya yang sudah ditetapkan.\n",
    "3. **Simulasi Jaringan**: Metode ini dapat dianggap sebagai simulasi yang menghasilkan skenario berdasarkan struktur dan probabilitas jaringan.\n",
    "\n",
    "### Contoh\n",
    "Misalkan kita memiliki Bayesian Network sederhana dengan dua variabel: \n",
    "- **Rain** (Hujan) tanpa variabel induk.\n",
    "- **Sprinkler** yang bergantung pada **Rain**.\n",
    "\n",
    "Jika kita menggunakan Prior Sampling:\n",
    "- Kita mulai dengan mengambil sampel untuk **Rain** berdasarkan distribusinya.\n",
    "- Setelah itu, kita mengambil sampel untuk **Sprinkler** yang dikondisikan oleh nilai **Rain** yang sudah diperoleh.\n",
    "\n",
    "### Keunggulan\n",
    "- **Sederhana** dan mudah diimplementasikan.\n",
    "- Dapat digunakan untuk menghasilkan data simulasi dari Bayesian Network.\n",
    "\n",
    "Namun, perlu diingat bahwa metode ini mungkin tidak efisien pada jaringan yang sangat besar, terutama jika terdapat variabel yang jarang terjadi (*low probability events*), karena akan membutuhkan banyak sampel untuk mendapatkan estimasi yang akurat.\n"
   ]
  },
  {
   "cell_type": "code",
   "execution_count": null,
   "metadata": {},
   "outputs": [],
   "source": [
    "psource(prior_sample)"
   ]
  },
  {
   "cell_type": "markdown",
   "metadata": {},
   "source": [
    "The function **prior_sample** implements the algorithm described in **Figure 14.13** of the book. Nodes are sampled in the topological order. The old value of the event is passed as evidence for parent values. We will use the Bayesian Network in **Figure 14.12** to try out the **prior_sample**\n",
    "\n",
    "<img src=\"images/sprinklernet.jpg\" height=\"500\" width=\"500\">\n",
    "\n",
    "Traversing the graph in topological order is important.\n",
    "There are two possible topological orderings for this particular directed acyclic graph.\n",
    "<br>\n",
    "1. `Cloudy -> Sprinkler -> Rain -> Wet Grass`\n",
    "2. `Cloudy -> Rain -> Sprinkler -> Wet Grass`\n",
    "<br>\n",
    "<br>\n",
    "We can follow any of the two orderings to sample from the network.\n",
    "Any ordering other than these two, however, cannot be used.\n",
    "<br>\n",
    "One way to think about this is that `Cloudy` can be seen as a precondition of both `Rain` and `Sprinkler` and just like we have seen in planning, preconditions need to be satisfied before a certain action can be executed.\n",
    "<br>\n",
    "We store the samples on the observations. Let us find **P(Rain=True)** by taking 1000 random samples from the network."
   ]
  },
  {
   "cell_type": "code",
   "execution_count": 7,
   "metadata": {},
   "outputs": [],
   "source": [
    "N = 1000\n",
    "all_observations = [prior_sample(sprinkler) for x in range(N)]"
   ]
  },
  {
   "cell_type": "markdown",
   "metadata": {},
   "source": [
    "Kode di atas melakukan **Prior Sampling** sebanyak `N = 1000` kali pada sebuah **Bayesian Network** .\n",
    "\n",
    "* `N = 1000`: Menentukan jumlah sampel yang akan diambil, yaitu 1000 sampel.\n",
    "* `prior_sample(sprinkler)`: Fungsi`prior_sample` digunakan untuk mengambil satu sampel dari jaringan dengan node**sprinkler** , mengikuti urutan topologis jaringan.\n",
    "* `all_observations`: Variabel ini menyimpan semua hasil sampel dalam bentuk list, di mana setiap elemen adalah hasil dari satu panggilan`prior_sample(sprinkler)`.\n",
    "* **List Comprehension** `[... for x in range(N)]`: Menjalankan fungsi`prior_sample(sprinkler)` sebanyak`N` kali dan menyimpan hasilnya ke dalam list`all_observations`.\n",
    "\n",
    "Hasilnya adalah `all_observations`, list yang berisi 1000 sampel hasil dari prior sampling pada jaringan **sprinkler** .\n"
   ]
  },
  {
   "cell_type": "markdown",
   "metadata": {},
   "source": [
    "Sekarang kita filter untuk mendapatkan observasi dimana Rain = True"
   ]
  },
  {
   "cell_type": "code",
   "execution_count": 8,
   "metadata": {},
   "outputs": [],
   "source": [
    "rain_true = [observation for observation in all_observations if observation['Rain'] == True]"
   ]
  },
  {
   "cell_type": "markdown",
   "metadata": {},
   "source": [
    "**P(Rain=True)**"
   ]
  },
  {
   "cell_type": "code",
   "execution_count": 9,
   "metadata": {},
   "outputs": [
    {
     "name": "stdout",
     "output_type": "stream",
     "text": [
      "0.513\n"
     ]
    }
   ],
   "source": [
    "answer = len(rain_true) / N\n",
    "print(answer)"
   ]
  },
  {
   "cell_type": "markdown",
   "metadata": {},
   "source": [
    "### Ketidakpastian dalam Sampling\n",
    "\n",
    "Ketika melakukan sampling ulang, hasil yang diperoleh mungkin berbeda karena kita tidak memiliki kontrol penuh atas distribusi sampel acak. Hal ini disebabkan oleh sifat **acak** dari metode sampling, di mana setiap kali dijalankan, sampel diambil berdasarkan distribusi probabilitas yang bisa menghasilkan variasi berbeda. Oleh karena itu, hasil sampling dari Bayesian Network dapat bervariasi antar percobaan, meskipun dilakukan dengan parameter yang sama.\n"
   ]
  },
  {
   "cell_type": "code",
   "execution_count": 10,
   "metadata": {},
   "outputs": [
    {
     "name": "stdout",
     "output_type": "stream",
     "text": [
      "0.503\n"
     ]
    }
   ],
   "source": [
    "N = 1000\n",
    "all_observations = [prior_sample(sprinkler) for x in range(N)]\n",
    "rain_true = [observation for observation in all_observations if observation['Rain'] == True]\n",
    "answer = len(rain_true) / N\n",
    "print(answer)"
   ]
  },
  {
   "cell_type": "markdown",
   "metadata": {},
   "source": [
    "### Evaluasi Distribusi Kondisional\n",
    "\n",
    "Untuk mengevaluasi distribusi kondisional, kita dapat menggunakan proses **filtering dua langkah**:\n",
    "\n",
    "1. **Langkah Pertama**: Memisahkan variabel-variabel yang konsisten dengan bukti yang ada. Misalnya, jika kita ingin mencari **P(Cloudy=True | Rain=True)**, kita terlebih dahulu memfilter data yang sesuai dengan **Rain=True** dan menyimpannya dalam variabel **rain_true**.\n",
    "   \n",
    "2. **Langkah Kedua**: Setelah itu, kita melakukan filter kedua pada **rain_true** untuk menghitung **P(Rain=True dan Cloudy=True)**. Dengan membandingkan hasil ini, kita dapat menghitung probabilitas kondisional yang diinginkan.\n",
    "\n",
    "Metode ini memudahkan kita untuk menghitung probabilitas variabel query dengan menggunakan bukti yang telah diberikan.\n"
   ]
  },
  {
   "cell_type": "code",
   "execution_count": 11,
   "metadata": {},
   "outputs": [
    {
     "name": "stdout",
     "output_type": "stream",
     "text": [
      "0.7892644135188867\n"
     ]
    }
   ],
   "source": [
    "rain_and_cloudy = [observation for observation in rain_true if observation['Cloudy'] == True]\n",
    "answer = len(rain_and_cloudy) / len(rain_true)\n",
    "print(answer)"
   ]
  },
  {
   "cell_type": "markdown",
   "metadata": {},
   "source": [
    "### Rejection Sampling\n",
    "\n",
    "**Rejection Sampling** adalah metode sampling yang mirip dengan **Prior Sampling**. Metode ini bekerja dengan terlebih dahulu menghasilkan sampel dari distribusi awal (prior) yang ditentukan oleh Bayesian Network, kemudian **menolak** semua sampel yang tidak sesuai dengan bukti yang diberikan.\n",
    "\n",
    "#### Cara Kerja Rejection Sampling\n",
    "1. **Generate Sampel**: Mengambil sampel dari distribusi prior yang ada di jaringan.\n",
    "2. **Filter Berdasarkan Bukti**: Menolak semua sampel yang tidak konsisten dengan bukti (evidence) yang kita miliki.\n",
    "\n",
    "#### Kelebihan Rejection Sampling\n",
    "- Berguna jika kita sudah mengetahui query dan buktinya sebelum proses sampling.\n",
    "- Berbeda dengan **Prior Sampling**, yang bisa bekerja untuk query apapun, metode ini lebih efisien dalam skenario di mana kita memiliki bukti dengan probabilitas sangat kecil.\n",
    "\n",
    "#### Masalah pada Prior Sampling\n",
    "Misalkan kita ingin mencari **P(A | e)** pada jaringan Bayesian dengan evidence **e** yang memiliki probabilitas sangat kecil. Dalam **Prior Sampling**, jika **e** sangat jarang terjadi, kita mungkin tidak akan mendapatkan sampel di mana **e** benar. Hal ini menyebabkan **P(e) = 0** sehingga **P(A | e) / P(e) = 0/0**, yang tidak terdefinisi. Meskipun kita bisa meningkatkan jumlah sampel, tidak ada jaminan kita akan menemukan sampel di mana **e** benar.\n",
    "\n",
    "#### Solusi oleh Rejection Sampling\n",
    "Dengan **Rejection Sampling**, kita hanya mempertimbangkan sampel yang konsisten dengan evidence **e**. Jadi, setiap sampel yang tidak sesuai dengan evidence akan langsung ditolak. Ini memastikan bahwa kita memiliki cukup data yang sesuai dengan evidence untuk menjawab query terkait.\n",
    "\n",
    "#### Implementasi\n",
    "Algoritma **Rejection Sampling** diimplementasikan dalam fungsi `rejection_sampling` seperti yang dijelaskan pada **Figure 14.14**.\n"
   ]
  },
  {
   "cell_type": "code",
   "execution_count": null,
   "metadata": {},
   "outputs": [],
   "source": [
    "psource(rejection_sampling)"
   ]
  },
  {
   "cell_type": "markdown",
   "metadata": {},
   "source": [
    "### Penjelasan Fungsi Rejection Sampling\n",
    "\n",
    "Fungsi **Rejection Sampling** menghitung jumlah setiap nilai yang mungkin dari variabel query dan meningkatkan hitungan ketika sampel yang diamati konsisten dengan bukti. Fungsi ini menerima input parameter sebagai berikut:\n",
    "\n",
    "- **X**: Variabel Query yang ingin dicari probabilitasnya.\n",
    "- **e**: Bukti yang diberikan yang harus konsisten dengan sampel.\n",
    "- **bn**: Jaringan Bayesian (Bayes Net) yang digunakan.\n",
    "- **N**: Jumlah sampel prior yang akan dihasilkan.\n",
    "\n",
    "Fungsi ini menggunakan **consistent_with** untuk memeriksa apakah sampel yang diambil konsisten dengan bukti yang diberikan. Sampel yang tidak konsisten dengan bukti akan ditolak, sementara yang konsisten akan digunakan untuk memperbarui hitungan nilai query.\n"
   ]
  },
  {
   "cell_type": "code",
   "execution_count": null,
   "metadata": {},
   "outputs": [],
   "source": [
    "psource(consistent_with)"
   ]
  },
  {
   "cell_type": "markdown",
   "metadata": {},
   "source": [
    "**P(Cloudy=True | Rain=True)**"
   ]
  },
  {
   "cell_type": "code",
   "execution_count": 14,
   "metadata": {},
   "outputs": [
    {
     "data": {
      "text/plain": [
       "0.8180076628352491"
      ]
     },
     "execution_count": 14,
     "metadata": {},
     "output_type": "execute_result"
    }
   ],
   "source": [
    "p = rejection_sampling('Cloudy', dict(Rain=True), sprinkler, 1000)\n",
    "p[True]"
   ]
  },
  {
   "cell_type": "markdown",
   "metadata": {},
   "source": [
    "### Likelihood Weighting\n",
    "\n",
    "**Rejection Sampling** dapat memakan waktu lama jika probabilitas menemukan bukti yang konsisten rendah, dan menjadi lebih lambat pada jaringan besar atau dengan banyak variabel bukti. Jika bukti terdiri dari banyak variabel, banyak sampel yang akan ditolak. **Likelihood Weighting** mengatasi masalah ini dengan cara memperbaiki bukti (tidak melakukan sampling pada bukti) dan menggunakan bobot untuk memastikan bahwa sampling tetap konsisten dengan bukti.\n",
    "\n",
    "Pseudocode yang dijelaskan dalam **Figure 14.15** diimplementasikan dalam fungsi **likelihood_weighting** dan **weighted_sample**.\n"
   ]
  },
  {
   "cell_type": "code",
   "execution_count": null,
   "metadata": {},
   "outputs": [],
   "source": [
    "psource(weighted_sample)"
   ]
  },
  {
   "cell_type": "markdown",
   "metadata": {},
   "source": [
    "### Penjelasan Fungsi **weighted_sample**\n",
    "\n",
    "Fungsi **weighted_sample** mengambil sampel dari **Bayesian Network** yang konsisten dengan bukti **e** dan mengembalikan sampel tersebut beserta bobotnya, yaitu kemungkinan bahwa sampel tersebut sesuai dengan bukti yang diberikan. Fungsi ini menerima dua parameter:\n",
    "\n",
    "- **bn**: Jaringan Bayesian yang digunakan.\n",
    "- **e**: Bukti yang diberikan.\n",
    "\n",
    "Bobot dihitung dengan mengalikan **P(x<sub>i</sub> | parents(x<sub>i</sub>))** untuk setiap node dalam bukti. Pada awal fungsi, nilai **event** diset sesuai dengan **e** (bukti) yang diberikan.\n"
   ]
  },
  {
   "cell_type": "code",
   "execution_count": null,
   "metadata": {},
   "outputs": [],
   "source": [
    "psource(likelihood_weighting)"
   ]
  },
  {
   "cell_type": "markdown",
   "metadata": {},
   "source": [
    "### Penjelasan Fungsi **likelihood_weighting**\n",
    "\n",
    "Fungsi **likelihood_weighting** mengimplementasikan algoritma untuk menyelesaikan masalah inferensi. Kode ini mirip dengan **rejection_sampling**, namun alih-alih menambah satu untuk setiap sampel, fungsi ini menambahkan bobot yang diperoleh dari **weighted_sample**.\n",
    "\n",
    "Dengan menggunakan bobot, **likelihood_weighting** memastikan bahwa sampel yang diambil sesuai dengan bukti dan memberikan kontribusi yang proporsional terhadap hasil inferensi.\n"
   ]
  },
  {
   "cell_type": "code",
   "execution_count": 17,
   "metadata": {},
   "outputs": [
    {
     "data": {
      "text/plain": [
       "'False: 0.184, True: 0.816'"
      ]
     },
     "execution_count": 17,
     "metadata": {},
     "output_type": "execute_result"
    }
   ],
   "source": [
    "likelihood_weighting('Cloudy', dict(Rain=True), sprinkler, 200).show_approx()"
   ]
  },
  {
   "cell_type": "markdown",
   "metadata": {},
   "source": [
    "### Gibbs Sampling\n",
    "\n",
    "Pada **Likelihood Sampling**, bobot dapat menjadi sangat kecil jika variabel bukti berada di bagian bawah **Bayesian Network**, karena pengaruh hanya menyebar ke bawah dalam proses sampling ini.\n",
    "\n",
    "**Gibbs Sampling** mengatasi masalah ini. Fungsi **gibbs_ask** yang diimplementasikan sesuai dengan algoritma yang dijelaskan pada **Figure 14.16** memungkinkan untuk melakukan sampling dengan cara yang lebih efektif, di mana pengaruh variabel dapat menyebar lebih merata di seluruh jaringan.\n"
   ]
  },
  {
   "cell_type": "code",
   "execution_count": null,
   "metadata": {},
   "outputs": [],
   "source": [
    "psource(gibbs_ask)"
   ]
  },
  {
   "cell_type": "markdown",
   "metadata": {},
   "source": [
    "### Penjelasan Fungsi **gibbs_ask**\n",
    "\n",
    "Pada fungsi **gibbs_ask**, kita menginisialisasi variabel non-bukti dengan nilai acak. Kemudian, kita memilih variabel non-bukti dan melakukan sampling dari **P(Variable | nilai dalam keadaan saat ini dari semua variabel lainnya)** secara berulang. \n",
    "\n",
    "Untuk mempercepat proses, kita menggunakan **markov_blanket_sample** alih-alih sampling langsung, karena istilah yang tidak melibatkan variabel akan saling menghilangkan dalam perhitungan. \n",
    "\n",
    "Argumen untuk **gibbs_ask** mirip dengan **likelihood_weighting**, yang mencakup jaringan Bayesian dan bukti yang diberikan.\n"
   ]
  },
  {
   "cell_type": "code",
   "execution_count": 19,
   "metadata": {},
   "outputs": [
    {
     "data": {
      "text/plain": [
       "'False: 0.24, True: 0.76'"
      ]
     },
     "execution_count": 19,
     "metadata": {},
     "output_type": "execute_result"
    }
   ],
   "source": [
    "gibbs_ask('Cloudy', dict(Rain=True), sprinkler, 200).show_approx()"
   ]
  },
  {
   "cell_type": "markdown",
   "metadata": {},
   "source": [
    "### Analisis Waktu Eksekusi\n",
    "\n",
    "Mari kita lihat berapa banyak waktu yang dibutuhkan oleh setiap algoritma untuk dijalankan.\n"
   ]
  },
  {
   "cell_type": "code",
   "execution_count": 20,
   "metadata": {},
   "outputs": [
    {
     "name": "stdout",
     "output_type": "stream",
     "text": [
      "5.4 ms ± 330 µs per loop (mean ± std. dev. of 7 runs, 100 loops each)\n"
     ]
    }
   ],
   "source": [
    "%%timeit\n",
    "all_observations = [prior_sample(sprinkler) for x in range(1000)]\n",
    "rain_true = [observation for observation in all_observations if observation['Rain'] == True]\n",
    "len([observation for observation in rain_true if observation['Cloudy'] == True]) / len(rain_true)"
   ]
  },
  {
   "cell_type": "code",
   "execution_count": 21,
   "metadata": {},
   "outputs": [
    {
     "name": "stdout",
     "output_type": "stream",
     "text": [
      "7.21 ms ± 520 µs per loop (mean ± std. dev. of 7 runs, 100 loops each)\n"
     ]
    }
   ],
   "source": [
    "%%timeit\n",
    "rejection_sampling('Cloudy', dict(Rain=True), sprinkler, 1000)"
   ]
  },
  {
   "cell_type": "code",
   "execution_count": 22,
   "metadata": {},
   "outputs": [
    {
     "name": "stdout",
     "output_type": "stream",
     "text": [
      "1.16 ms ± 67.5 µs per loop (mean ± std. dev. of 7 runs, 1,000 loops each)\n"
     ]
    }
   ],
   "source": [
    "%%timeit\n",
    "likelihood_weighting('Cloudy', dict(Rain=True), sprinkler, 200)"
   ]
  },
  {
   "cell_type": "code",
   "execution_count": 23,
   "metadata": {},
   "outputs": [
    {
     "name": "stdout",
     "output_type": "stream",
     "text": [
      "27.3 ms ± 2.19 ms per loop (mean ± std. dev. of 7 runs, 10 loops each)\n"
     ]
    }
   ],
   "source": [
    "%%timeit\n",
    "gibbs_ask('Cloudy', dict(Rain=True), sprinkler, 200)"
   ]
  },
  {
   "cell_type": "markdown",
   "metadata": {},
   "source": [
    "### Analisis Waktu Eksekusi Algoritma\n",
    "\n",
    "Seperti yang diharapkan, semua algoritma memiliki waktu eksekusi yang sangat mirip. Namun, **Rejection Sampling** akan lebih cepat dan lebih akurat ketika probabilitas menemukan sampel yang konsisten dengan bukti yang dibutuhkan sangat kecil.\n",
    "\n",
    "Sementara itu, **Likelihood Weighting** adalah yang tercepat di antara semuanya karena tidak melibatkan penolakan sampel, meskipun memiliki variansi yang cukup tinggi.\n"
   ]
  }
 ],
 "metadata": {
  "kernelspec": {
   "display_name": "base",
   "language": "python",
   "name": "python3"
  },
  "language_info": {
   "codemirror_mode": {
    "name": "ipython",
    "version": 3
   },
   "file_extension": ".py",
   "mimetype": "text/x-python",
   "name": "python",
   "nbconvert_exporter": "python",
   "pygments_lexer": "ipython3",
   "version": "3.11.4"
  }
 },
 "nbformat": 4,
 "nbformat_minor": 2
}
