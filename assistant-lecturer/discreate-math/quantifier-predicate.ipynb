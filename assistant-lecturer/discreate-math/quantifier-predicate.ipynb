{
 "cells": [
  {
   "cell_type": "code",
   "execution_count": 9,
   "metadata": {},
   "outputs": [],
   "source": [
    "anak = {\n",
    "    \"Bu Chanek\" : \"Dengklek\",\n",
    "    \"Bu Mutia\" : [\"Imut\", \"Amba\", \"Rizky\"],\n",
    "    \"Bu Candeez\" : None\n",
    "}"
   ]
  },
  {
   "cell_type": "code",
   "execution_count": 17,
   "metadata": {},
   "outputs": [
    {
     "data": {
      "text/plain": [
       "3"
      ]
     },
     "execution_count": 17,
     "metadata": {},
     "output_type": "execute_result"
    }
   ],
   "source": [
    "len(anak)"
   ]
  },
  {
   "cell_type": "code",
   "execution_count": 5,
   "metadata": {},
   "outputs": [
    {
     "data": {
      "text/plain": [
       "'Dengklek'"
      ]
     },
     "execution_count": 5,
     "metadata": {},
     "output_type": "execute_result"
    }
   ],
   "source": [
    "anak[\"Bu Chanek\"]"
   ]
  },
  {
   "cell_type": "code",
   "execution_count": 8,
   "metadata": {},
   "outputs": [
    {
     "data": {
      "text/plain": [
       "['Imut', 'Amba', 'Rizky']"
      ]
     },
     "execution_count": 8,
     "metadata": {},
     "output_type": "execute_result"
    }
   ],
   "source": [
    "anak[\"Bu Mutia\"]"
   ]
  },
  {
   "cell_type": "code",
   "execution_count": 7,
   "metadata": {},
   "outputs": [
    {
     "name": "stdout",
     "output_type": "stream",
     "text": [
      "Imut\n",
      "Amba\n",
      "Rizky\n"
     ]
    }
   ],
   "source": [
    "# anak[\"Bu Mutia\"]\n",
    "for anakBuMutia in anak[\"Bu Mutia\"]:\n",
    "    print(anakBuMutia)"
   ]
  },
  {
   "cell_type": "markdown",
   "metadata": {},
   "source": [
    "Cek apakah semua ibu mempunya minimal 1 anak"
   ]
  },
  {
   "cell_type": "code",
   "execution_count": 18,
   "metadata": {},
   "outputs": [
    {
     "name": "stdout",
     "output_type": "stream",
     "text": [
      "Terdapat kasus di mana satu ibu semua anak\n"
     ]
    }
   ],
   "source": [
    "anak2 = {\n",
    "    \"Bu Luis\" : [\"Phineas\", \"Ferb\", \"Candeez\"]\n",
    "}\n",
    "if(len(anak2) == 1):\n",
    "    print(\"Terdapat kasus di mana satu ibu semua anak\")\n",
    "# Ukuran dictionarynya cuman 1 dan value bukan None"
   ]
  },
  {
   "cell_type": "code",
   "execution_count": 13,
   "metadata": {},
   "outputs": [
    {
     "name": "stdout",
     "output_type": "stream",
     "text": [
      "Index : 0, Ibu : Bu Chanek, anak : Dengklek\n",
      "Index : 1, Ibu : Bu Mutia, anak : ['Imut', 'Amba', 'Rizky']\n",
      "Index : 2, Ibu : Bu Candeez, anak : None\n"
     ]
    }
   ],
   "source": [
    "for index, (ibu,anake) in enumerate(anak.items()):\n",
    "    print(f\"Index : {index}, Ibu : {ibu}, anak : {anake}\")"
   ]
  },
  {
   "cell_type": "code",
   "execution_count": 15,
   "metadata": {},
   "outputs": [
    {
     "name": "stdout",
     "output_type": "stream",
     "text": [
      "Tidak, tidak semua ibu mempunyai minimal 1 anak\n",
      "Bu Candeez tidak mempunyai anak\n"
     ]
    }
   ],
   "source": [
    "for index, (ibu,anake) in enumerate(anak2.items()):\n",
    "    if(anak[ibu] == None):\n",
    "        print(\"Tidak, tidak semua ibu mempunyai minimal 1 anak\")\n",
    "        print(f\"{ibu} tidak mempunyai anak\")\n",
    "        break"
   ]
  },
  {
   "cell_type": "markdown",
   "metadata": {},
   "source": [
    "Cek apakah ada satu anak semua ibu"
   ]
  },
  {
   "cell_type": "code",
   "execution_count": 2,
   "metadata": {},
   "outputs": [],
   "source": [
    "anak3 = {\n",
    "    \"Bu Chanek\" : [\"Zee\"],\n",
    "    \"Bu Dengklek\" : [\"Zee\",\"Freya\"],\n",
    "    \"Bu Ghani\" : [\"Zee\"]\n",
    "}"
   ]
  },
  {
   "cell_type": "code",
   "execution_count": 3,
   "metadata": {},
   "outputs": [
    {
     "name": "stdout",
     "output_type": "stream",
     "text": [
      "Tidak\n",
      "Tidak\n",
      "Tidak\n",
      "Tidak\n",
      "Tidak\n",
      "Tidak\n",
      "Tidak\n",
      "Tidak\n",
      "Tidak\n",
      "Iya\n"
     ]
    }
   ],
   "source": [
    "for _, (ibu3,anake3) in enumerate(anak3.items()):\n",
    "    for _, (ibu32, anake32) in enumerate(anak3.items()):\n",
    "        if(anake3 not in anake32):\n",
    "            print(\"Tidak\")\n",
    "            break\n",
    "print(\"Iya\")"
   ]
  },
  {
   "cell_type": "markdown",
   "metadata": {},
   "source": [
    "namaVariable = {\n",
    "    \"key\" : {value}\n",
    "}"
   ]
  },
  {
   "cell_type": "markdown",
   "metadata": {},
   "source": []
  }
 ],
 "metadata": {
  "kernelspec": {
   "display_name": "base",
   "language": "python",
   "name": "python3"
  },
  "language_info": {
   "codemirror_mode": {
    "name": "ipython",
    "version": 3
   },
   "file_extension": ".py",
   "mimetype": "text/x-python",
   "name": "python",
   "nbconvert_exporter": "python",
   "pygments_lexer": "ipython3",
   "version": "3.11.4"
  }
 },
 "nbformat": 4,
 "nbformat_minor": 2
}
